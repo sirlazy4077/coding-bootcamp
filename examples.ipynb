{
 "cells": [
  {
   "cell_type": "code",
   "execution_count": 31,
   "id": "b882f033",
   "metadata": {},
   "outputs": [],
   "source": [
    "#I can attribute that much of this code is built with Copilot helping me with autocompletion\n",
    "# the hash at the start of a line is a comment in Python"
   ]
  },
  {
   "cell_type": "code",
   "execution_count": null,
   "id": "b6decb13",
   "metadata": {},
   "outputs": [
    {
     "name": "stdout",
     "output_type": "stream",
     "text": [
      "x: 10\n",
      "y: 3.14\n"
     ]
    }
   ],
   "source": [
    "# Basic Python syntax and datatypes modification example\n",
    "\n",
    "# Integer\n",
    "x = 10\n",
    "\n",
    "# Float\n",
    "# convention is using lowercase letters for variable names\n",
    "y = 3.14\n",
    "\n",
    "# Print values\n",
    "print(\"x:\", x)\n",
    "print(\"x type\", type(x))\n",
    "\n",
    "print(\"y:\", y)\n",
    "print(\"y type\", type(y) )"
   ]
  },
  {
   "cell_type": "code",
   "execution_count": 3,
   "id": "cb616e92",
   "metadata": {},
   "outputs": [
    {
     "name": "stdout",
     "output_type": "stream",
     "text": [
      "x: 12\n",
      "x type <class 'int'>\n",
      "y: 3\n",
      "y type <class 'int'>\n"
     ]
    }
   ],
   "source": [
    "# Integer\n",
    "# we can also use expressions to assign values\n",
    "x = 10+2\n",
    "\n",
    "# Float to int\n",
    "# we can also change the type of a variable (this can get confusing!)\n",
    "y = int(3.14)\n",
    "\n",
    "# Print values\n",
    "print(\"x:\", x)\n",
    "print(\"x type\", type(x))\n",
    "\n",
    "print(\"y:\", y)\n",
    "print(\"y type\", type(y) )"
   ]
  },
  {
   "cell_type": "code",
   "execution_count": 4,
   "id": "eadd2db0",
   "metadata": {},
   "outputs": [
    {
     "name": "stdout",
     "output_type": "stream",
     "text": [
      "name: Alice\n"
     ]
    }
   ],
   "source": [
    "# String\n",
    "# convention is naming variables with lowercase letters\n",
    "name = \"Alice\"\n",
    "\n",
    "print(\"name:\", name)"
   ]
  },
  {
   "cell_type": "code",
   "execution_count": 5,
   "id": "bb54c7f2",
   "metadata": {},
   "outputs": [
    {
     "name": "stdout",
     "output_type": "stream",
     "text": [
      "greeting: Hello, Alice!\n"
     ]
    }
   ],
   "source": [
    "# String\n",
    "# we can do string concatenation\n",
    "greeting = \"Hello, \" + name + \"!\"\n",
    "\n",
    "print(\"greeting:\", greeting)"
   ]
  },
  {
   "cell_type": "code",
   "execution_count": 6,
   "id": "37fd9d20",
   "metadata": {},
   "outputs": [
    {
     "name": "stdout",
     "output_type": "stream",
     "text": [
      "is_active: True\n"
     ]
    }
   ],
   "source": [
    "# Boolean\n",
    "# convention is naming boolean variables with 'is_' prefix\n",
    "# and using the underscore for seperating words in a variable name\n",
    "is_active = True\n",
    "\n",
    "print(\"is_active:\", is_active)"
   ]
  },
  {
   "cell_type": "code",
   "execution_count": 7,
   "id": "a113d4e6",
   "metadata": {},
   "outputs": [
    {
     "name": "stdout",
     "output_type": "stream",
     "text": [
      "is_active: False\n"
     ]
    }
   ],
   "source": [
    "# Boolean\n",
    "# we can change the boolean value\n",
    "is_active = False\n",
    "\n",
    "print(\"is_active:\", is_active)"
   ]
  },
  {
   "cell_type": "code",
   "execution_count": 8,
   "id": "db986d51",
   "metadata": {},
   "outputs": [
    {
     "name": "stdout",
     "output_type": "stream",
     "text": [
      "numbers: [1, 2, 3, 4, 5]\n"
     ]
    }
   ],
   "source": [
    "# List\n",
    "# lists are mutable sequences\n",
    "numbers = [1, 2, 3, 4, 5]\n",
    "\n",
    "print(\"numbers:\", numbers)"
   ]
  },
  {
   "cell_type": "code",
   "execution_count": 11,
   "id": "c43a54b3",
   "metadata": {},
   "outputs": [
    {
     "name": "stdout",
     "output_type": "stream",
     "text": [
      "number 1, which is index 0: 1\n",
      "number 2, which is index 1: 2\n"
     ]
    }
   ],
   "source": [
    "# List\n",
    "# we can grab a value from a list by its index\n",
    "numbers = [1, 2, 3, 4, 5]\n",
    "\n",
    "# note that python uses zero-based indexing\n",
    "# so the first element is at index 0\n",
    "# and the second element is at index 1\n",
    "# and so on...\n",
    "first_number = numbers[0]\n",
    "second_number = numbers[1]\n",
    "\n",
    "print(\"number 1, which is index 0:\", first_number)\n",
    "print(\"number 2, which is index 1:\", second_number)"
   ]
  },
  {
   "cell_type": "code",
   "execution_count": 12,
   "id": "38abb466",
   "metadata": {},
   "outputs": [
    {
     "name": "stdout",
     "output_type": "stream",
     "text": [
      "sublist: [2, 3]\n"
     ]
    }
   ],
   "source": [
    "# List\n",
    "# we can slice a list to get a sublist\n",
    "\n",
    "numbers = [1, 2, 3, 4, 5]\n",
    "# we can get a sublist from index 1 (inclusive) to index 3 (exclusive, so the final index is not included)\n",
    "sublist = numbers[1:3]\n",
    "\n",
    "print(\"sublist:\", sublist)"
   ]
  },
  {
   "cell_type": "code",
   "execution_count": null,
   "id": "09ab119b",
   "metadata": {},
   "outputs": [
    {
     "name": "stdout",
     "output_type": "stream",
     "text": [
      "list modified: [6, 2, 3, 4, 5]\n"
     ]
    }
   ],
   "source": [
    "# List\n",
    "# we can modify list values by calling the index\n",
    "\n",
    "numbers = [1, 2, 3, 4, 5]\n",
    "\n",
    "numbers[0] = 6\n",
    "\n",
    "print(\"list modified:\", numbers)"
   ]
  },
  {
   "cell_type": "code",
   "execution_count": 13,
   "id": "43e64e49",
   "metadata": {},
   "outputs": [
    {
     "name": "stdout",
     "output_type": "stream",
     "text": [
      "list mixed: [1, 2, 3.14, 4, 'Five']\n"
     ]
    }
   ],
   "source": [
    "# List\n",
    "# lists in python can be a mix of types (contrary to languages like Java)\n",
    "\n",
    "list_mixed = [1, 2, 3.14, 4, \"Five\"]\n",
    "\n",
    "print(\"list mixed:\", list_mixed)"
   ]
  },
  {
   "cell_type": "code",
   "execution_count": 15,
   "id": "9cb3a535",
   "metadata": {},
   "outputs": [
    {
     "name": "stdout",
     "output_type": "stream",
     "text": [
      "sublist mixed: [2, 3.14, 4]\n"
     ]
    }
   ],
   "source": [
    "#lists can split into sublists, often by splicing the list\n",
    "#splicing is done by specifying a range of indices\n",
    "#for example, to get a sublist from index 1 (inclusive) to index 4 (exclusive)\n",
    "sublist_mixed = list_mixed[1:4]\n",
    "print(\"sublist mixed:\", sublist_mixed)"
   ]
  },
  {
   "cell_type": "code",
   "execution_count": 13,
   "id": "3771de62",
   "metadata": {},
   "outputs": [
    {
     "name": "stdout",
     "output_type": "stream",
     "text": [
      "coordinates: (10.0, 20.0)\n",
      "coordinates first index: 10.0\n"
     ]
    }
   ],
   "source": [
    "# Tuple\n",
    "# tuples are immutable sequences\n",
    "coordinates = (10.0, 20.0)\n",
    "\n",
    "print(\"coordinates:\", coordinates)\n",
    "\n",
    "print(\"coordinates first index:\", coordinates[0])"
   ]
  },
  {
   "cell_type": "code",
   "execution_count": null,
   "id": "ee8dee48",
   "metadata": {},
   "outputs": [
    {
     "name": "stdout",
     "output_type": "stream",
     "text": [
      "unique_numbers: {1, 2, 3}\n",
      "True\n",
      "False\n"
     ]
    }
   ],
   "source": [
    "# Set\n",
    "# sets are unordered collections of unique elements\n",
    "unique_numbers = {1, 2, 3}\n",
    "\n",
    "print(\"unique_numbers:\", unique_numbers)\n",
    "\n",
    "# we can see if a value is in a set (or tuple, or list) using the 'in' keyword\n",
    "# this is useful for checking membership in a collection\n",
    "print(1 in unique_numbers)  # True\n",
    "print(4 in unique_numbers)  # False"
   ]
  },
  {
   "cell_type": "code",
   "execution_count": 1,
   "id": "68509762",
   "metadata": {},
   "outputs": [
    {
     "name": "stdout",
     "output_type": "stream",
     "text": [
      "person: {'name': 'Bob', 'age': 25}\n"
     ]
    }
   ],
   "source": [
    "# Dictionary\n",
    "# dictionaries are key-value pairs\n",
    "person = {\"name\": \"Bob\", \"age\": 25}\n",
    "\n",
    "# Print values\n",
    "print(\"person:\", person)"
   ]
  },
  {
   "cell_type": "code",
   "execution_count": 16,
   "id": "5b21c26f",
   "metadata": {},
   "outputs": [
    {
     "name": "stdout",
     "output_type": "stream",
     "text": [
      "person: {'name': 'Bob', 'age': 25}\n",
      "person name: Bob\n",
      "person age: 25\n",
      "person after adding city: {'name': 'Bob', 'age': 25, 'city': 'New York'}\n"
     ]
    }
   ],
   "source": [
    "# Dictionary\n",
    "# dictionaries are key-value pairs\n",
    "person = {\"name\": \"Bob\", \"age\": 25}\n",
    "\n",
    "# Print values\n",
    "print(\"person:\", person)\n",
    "\n",
    "# we can access a value by its key\n",
    "print(\"person name:\", person[\"name\"])\n",
    "\n",
    "# we can get the value of a key using the get method\n",
    "print(\"person age:\", person.get(\"age\"))\n",
    "\n",
    "# we can also add a new key-value pair to the dictionary\n",
    "person[\"city\"] = \"New York\"\n",
    "\n",
    "print(\"person after adding city:\", person)\n"
   ]
  },
  {
   "cell_type": "code",
   "execution_count": null,
   "id": "7a19e47b",
   "metadata": {},
   "outputs": [
    {
     "name": "stdout",
     "output_type": "stream",
     "text": [
      "x < y: True\n",
      "x > y: False\n"
     ]
    }
   ],
   "source": [
    "#python like other languages makes use of logical operators\n",
    "x = 2\n",
    "y = 3\n",
    "\n",
    "print(\"x < y:\", x < y)  # True\n",
    "print(\"x > y:\", x > y)  # False"
   ]
  },
  {
   "cell_type": "code",
   "execution_count": null,
   "id": "7c4e7e05",
   "metadata": {},
   "outputs": [
    {
     "name": "stdout",
     "output_type": "stream",
     "text": [
      "x == y: False\n",
      "x != y: True\n",
      "x < y and x != y: True\n",
      "x < y or x == y: True\n",
      "not (x < y): False\n"
     ]
    }
   ],
   "source": [
    "#a few more examples of logical operators\n",
    "# there are oddles more, so when in doubt: search for what you're looking to do\n",
    "\n",
    "# example to check if two values are equal\n",
    "print(\"x == y:\", x == y)  # False\n",
    "\n",
    "# example of check if two values are NOT equal\n",
    "print(\"x != y:\", x != y)  # True\n",
    "\n",
    "#python uses the following logical operators:\n",
    "# and, or, not\n",
    "print(\"x < y and x != y:\", x < y and x != y) # True\n",
    "print(\"x < y or x == y:\", x < y or x == y) # True\n",
    "print(\"not (x < y):\", not (x < y))  # False"
   ]
  },
  {
   "cell_type": "code",
   "execution_count": 58,
   "id": "4bab759d",
   "metadata": {},
   "outputs": [
    {
     "name": "stdout",
     "output_type": "stream",
     "text": [
      "1 is odd\n",
      "2 is even\n",
      "3 is odd\n",
      "4 is even\n",
      "5 is odd\n",
      "6 is even\n",
      "7 is odd\n",
      "8 is even\n",
      "9 is odd\n",
      "10 is even\n"
     ]
    }
   ],
   "source": [
    "# we can use if statements to control the flow of our program\n",
    "# for example, we can check if a number is even or odd in a loop and print the result\n",
    "\n",
    "for i in range(1, 11):  # loop from 1 to 10, recall that range is inclusive of the first number and exclusive of the last number\n",
    "    if i % 2 == 0:  # check if the number is even, this is using the modulo operator\n",
    "        print(i, \"is even\")\n",
    "    else:  # if the number is not even, it is odd\n",
    "        print(i, \"is odd\")"
   ]
  },
  {
   "cell_type": "code",
   "execution_count": 63,
   "id": "773b8ebd",
   "metadata": {},
   "outputs": [
    {
     "name": "stdout",
     "output_type": "stream",
     "text": [
      "1 is odd\n",
      "2 is even\n",
      "3 is odd\n",
      "4 is even\n",
      "5 is odd\n",
      "6 is even\n",
      "7 is odd\n",
      "7 , our lucky number!\n",
      "8 is even\n",
      "9 is odd\n",
      "10 is even\n"
     ]
    }
   ],
   "source": [
    "#let's modify this a bit to check if a number is our lucky number\n",
    "\n",
    "# we can use if statements to control the flow of our program\n",
    "# for example, we can check if a number is even or odd in a loop and print the result\n",
    "\n",
    "lucky_number = 7  # let's say our lucky number is 7\n",
    "\n",
    "for i in range(1, 11):  # loop from 1 to 10, recall that range is inclusive of the first number and exclusive of the last number\n",
    "    if i % 2 == 0:  # check if the number is even, this is using the modulo operator\n",
    "        print(i, \"is even\")\n",
    "    elif i == lucky_number:  # check if the number is our lucky number\n",
    "        print(i, \"is odd\")\n",
    "        print(i, \", our lucky number!\")\n",
    "    else:  # if the number is not even, it is odd\n",
    "        print(i, \"is odd\")"
   ]
  },
  {
   "cell_type": "code",
   "execution_count": 36,
   "id": "ba9d96e1",
   "metadata": {},
   "outputs": [
    {
     "name": "stdout",
     "output_type": "stream",
     "text": [
      "'Hello' in text: True\n",
      "'Python' in text: False\n"
     ]
    },
    {
     "ename": "TypeError",
     "evalue": "argument of type 'int' is not iterable",
     "output_type": "error",
     "traceback": [
      "\u001b[31m---------------------------------------------------------------------------\u001b[39m",
      "\u001b[31mTypeError\u001b[39m                                 Traceback (most recent call last)",
      "\u001b[36mCell\u001b[39m\u001b[36m \u001b[39m\u001b[32mIn[36]\u001b[39m\u001b[32m, line 10\u001b[39m\n\u001b[32m      7\u001b[39m \u001b[38;5;28mprint\u001b[39m(\u001b[33m\"\u001b[39m\u001b[33m'\u001b[39m\u001b[33mPython\u001b[39m\u001b[33m'\u001b[39m\u001b[33m in text:\u001b[39m\u001b[33m\"\u001b[39m, \u001b[33m\"\u001b[39m\u001b[33mPython\u001b[39m\u001b[33m\"\u001b[39m \u001b[38;5;129;01min\u001b[39;00m text)  \u001b[38;5;66;03m# False\u001b[39;00m\n\u001b[32m      9\u001b[39m \u001b[38;5;66;03m#but now try the same with an int\u001b[39;00m\n\u001b[32m---> \u001b[39m\u001b[32m10\u001b[39m \u001b[38;5;28mprint\u001b[39m(\u001b[33m\"\u001b[39m\u001b[33m1 in number 11:\u001b[39m\u001b[33m\"\u001b[39m, \u001b[32;43m1\u001b[39;49m\u001b[43m \u001b[49m\u001b[38;5;129;43;01min\u001b[39;49;00m\u001b[43m \u001b[49m\u001b[32;43m11\u001b[39;49m)  \u001b[38;5;66;03m# this will raise an error, as 'in' operator is not defined for int\u001b[39;00m\n",
      "\u001b[31mTypeError\u001b[39m: argument of type 'int' is not iterable"
     ]
    }
   ],
   "source": [
    "#not all operators work the same way as in other languages\n",
    "# and not all operators that work on strings work on ints or floats\n",
    "\n",
    "#example of using the 'in' operator with a string\n",
    "text = \"Hello, World!\"\n",
    "print(\"'Hello' in text:\", \"Hello\" in text)  # True\n",
    "print(\"'Python' in text:\", \"Python\" in text)  # False\n",
    "\n",
    "#but now try the same with an int\n",
    "print(\"1 in number 11:\", 1 in 11)  # this will raise an error, as 'in' operator is not defined for int"
   ]
  },
  {
   "cell_type": "code",
   "execution_count": 37,
   "id": "bd9259c6",
   "metadata": {},
   "outputs": [
    {
     "ename": "ZeroDivisionError",
     "evalue": "division by zero",
     "output_type": "error",
     "traceback": [
      "\u001b[31m---------------------------------------------------------------------------\u001b[39m",
      "\u001b[31mZeroDivisionError\u001b[39m                         Traceback (most recent call last)",
      "\u001b[36mCell\u001b[39m\u001b[36m \u001b[39m\u001b[32mIn[37]\u001b[39m\u001b[32m, line 6\u001b[39m\n\u001b[32m      3\u001b[39m x = \u001b[32m1\u001b[39m\n\u001b[32m      4\u001b[39m y = \u001b[32m0\u001b[39m\n\u001b[32m----> \u001b[39m\u001b[32m6\u001b[39m \u001b[38;5;28mprint\u001b[39m(\u001b[33m\"\u001b[39m\u001b[33mx / y:\u001b[39m\u001b[33m\"\u001b[39m, \u001b[43mx\u001b[49m\u001b[43m \u001b[49m\u001b[43m/\u001b[49m\u001b[43m \u001b[49m\u001b[43my\u001b[49m)  \u001b[38;5;66;03m# this will raise a ZeroDivisionError, as we cannot divide by zero\u001b[39;00m\n",
      "\u001b[31mZeroDivisionError\u001b[39m: division by zero"
     ]
    }
   ],
   "source": [
    "#errors are raised in a few different ways, as seen above where we got a \"TypeError\" when trying to use the 'in' operator with an int\n",
    "# a few more examples of errors, a timeless classic in all of mathematics:\n",
    "x = 1\n",
    "y = 0\n",
    "\n",
    "print(\"x / y:\", x / y)  # this will raise a ZeroDivisionError, as we cannot divide by zero"
   ]
  },
  {
   "cell_type": "code",
   "execution_count": 38,
   "id": "9c765942",
   "metadata": {},
   "outputs": [
    {
     "ename": "NameError",
     "evalue": "name 'roflcopter' is not defined",
     "output_type": "error",
     "traceback": [
      "\u001b[31m---------------------------------------------------------------------------\u001b[39m",
      "\u001b[31mNameError\u001b[39m                                 Traceback (most recent call last)",
      "\u001b[36mCell\u001b[39m\u001b[36m \u001b[39m\u001b[32mIn[38]\u001b[39m\u001b[32m, line 4\u001b[39m\n\u001b[32m      1\u001b[39m \u001b[38;5;66;03m#other common errors include:\u001b[39;00m\n\u001b[32m      2\u001b[39m \u001b[38;5;66;03m# NameError: when you try to use a variable that has not been defined\u001b[39;00m\n\u001b[32m----> \u001b[39m\u001b[32m4\u001b[39m \u001b[38;5;28mprint\u001b[39m(\u001b[43mroflcopter\u001b[49m)  \u001b[38;5;66;03m# this will raise a NameError, as roflcopter is not defined\u001b[39;00m\n",
      "\u001b[31mNameError\u001b[39m: name 'roflcopter' is not defined"
     ]
    }
   ],
   "source": [
    "#other common errors include:\n",
    "# NameError: when you try to use a variable that has not been defined\n",
    "\n",
    "print(roflcopter)  # this will raise a NameError, as roflcopter is not defined\n"
   ]
  },
  {
   "cell_type": "code",
   "execution_count": 43,
   "id": "f210d007",
   "metadata": {},
   "outputs": [
    {
     "name": "stdout",
     "output_type": "stream",
     "text": [
      "I can't let you divide by zero, sorry!\n"
     ]
    }
   ],
   "source": [
    "#a way to address errors is to use try-except blocks\n",
    "# this allows us to catch errors and handle them gracefully\n",
    "x = 1\n",
    "y = 0\n",
    "\n",
    "try:\n",
    "    print(\"x / y:\", x / y)\n",
    "except:\n",
    "    print(\"I can't let you divide by zero, sorry!\")"
   ]
  },
  {
   "cell_type": "code",
   "execution_count": 46,
   "id": "4b847df5",
   "metadata": {},
   "outputs": [
    {
     "name": "stdout",
     "output_type": "stream",
     "text": [
      "Error: division by zero\n"
     ]
    }
   ],
   "source": [
    "#usually you would want to catch specific errors, like ZeroDivisionError, but for simplicity I caught all errors above\n",
    "#let's try to catch a specific error\n",
    "try:\n",
    "    print(\"x / y:\", x / y)\n",
    "except ZeroDivisionError as e:\n",
    "    # e is the exception object that contains information about the error\n",
    "    print(\"Error:\", e)"
   ]
  },
  {
   "cell_type": "code",
   "execution_count": 49,
   "id": "20ceb3b5",
   "metadata": {},
   "outputs": [
    {
     "name": "stdout",
     "output_type": "stream",
     "text": [
      "This print statement is here to show that the code is still running on line 6\n"
     ]
    },
    {
     "ename": "NameError",
     "evalue": "name 'roflcopter' is not defined",
     "output_type": "error",
     "traceback": [
      "\u001b[31m---------------------------------------------------------------------------\u001b[39m",
      "\u001b[31mNameError\u001b[39m                                 Traceback (most recent call last)",
      "\u001b[36mCell\u001b[39m\u001b[36m \u001b[39m\u001b[32mIn[49]\u001b[39m\u001b[32m, line 7\u001b[39m\n\u001b[32m      1\u001b[39m \u001b[38;5;66;03m#errors can be a source of frustration, so when in doubt, try to catch them\u001b[39;00m\n\u001b[32m      2\u001b[39m \u001b[38;5;66;03m#finding them usually requires reading the error message to trace it back to the line of code that caused it\u001b[39;00m\n\u001b[32m      3\u001b[39m \n\u001b[32m      4\u001b[39m \u001b[38;5;66;03m#pulling up an old example, look at the error message and spot the line (and this being Jupyer, the cell) that caused it\u001b[39;00m\n\u001b[32m      6\u001b[39m \u001b[38;5;28mprint\u001b[39m(\u001b[33m\"\u001b[39m\u001b[33mThis print statement is here to show that the code is still running on line 6\u001b[39m\u001b[33m\"\u001b[39m)\n\u001b[32m----> \u001b[39m\u001b[32m7\u001b[39m \u001b[38;5;28mprint\u001b[39m(\u001b[43mroflcopter\u001b[49m)  \u001b[38;5;66;03m# this will raise a NameError, as roflcopter is not defined\u001b[39;00m\n\u001b[32m      8\u001b[39m \u001b[38;5;28mprint\u001b[39m(\u001b[33m\"\u001b[39m\u001b[33mWe never reached this line, as the code above raised an error\u001b[39m\u001b[33m\"\u001b[39m)\n",
      "\u001b[31mNameError\u001b[39m: name 'roflcopter' is not defined"
     ]
    }
   ],
   "source": [
    "#errors can be a source of frustration, so when in doubt, try to catch them\n",
    "#finding them usually requires reading the error message to trace it back to the line of code that caused it\n",
    "\n",
    "#pulling up an old example, look at the error message and spot the line (and this being Jupyer, the cell) that caused it\n",
    "\n",
    "print(\"This print statement is here to show that the code is still running on line 6\")\n",
    "print(roflcopter)  # this will raise a NameError, as roflcopter is not defined\n",
    "print(\"We never reached this line, as the code above raised an error\")\n"
   ]
  },
  {
   "cell_type": "code",
   "execution_count": null,
   "id": "7652b058",
   "metadata": {},
   "outputs": [
    {
     "ename": "IndentationError",
     "evalue": "unexpected indent (146136665.py, line 6)",
     "output_type": "error",
     "traceback": [
      "  \u001b[36mCell\u001b[39m\u001b[36m \u001b[39m\u001b[32mIn[50]\u001b[39m\u001b[32m, line 6\u001b[39m\n\u001b[31m    \u001b[39m\u001b[31mprint(\"Hello, \" + name + \"!\")\u001b[39m\n    ^\n\u001b[31mIndentationError\u001b[39m\u001b[31m:\u001b[39m unexpected indent\n"
     ]
    }
   ],
   "source": [
    "#something to keep in mind is that Python is indentation-sensitive\n",
    "# this means that the indentation of your code matters\n",
    "\n",
    "#failing to indent at the appropriate level can lead to issues, so be careful with your indentation\n",
    "#rainbow indent is a nice extension for VSCode that helps with this\n",
    "#the Python extension for VSCode also has a linter that will help you catch these issues\n",
    "\n",
    "# for example, the following code will raise an IndentationError\n",
    "def say_hello(name):\n",
    "    \"\"\"Function to greet a person by name.\"\"\"\n",
    "        print(\"Hello, \" + name + \"!\")"
   ]
  },
  {
   "cell_type": "code",
   "execution_count": null,
   "id": "70dcc931",
   "metadata": {},
   "outputs": [],
   "source": [
    "#functions in python are useful for organizing code into reusable blocks\n",
    "#usually, we define functions at the top level of a script or module, and save main for the end\n",
    "#functions often, but not always, take arguments (something the function will use) and return values\n",
    "\n",
    "#here we're passing a name, as a string, to the function and it will print something for us\n",
    "#make note of the indentation, which is important in Python\n",
    "#it tells the interpreter what lines of code belong to the function\n",
    "\n",
    "def say_hello(name):\n",
    "    \"\"\"Function to greet a person by name.\"\"\"\n",
    "    print(\"Hello, \" + name + \"!\")"
   ]
  },
  {
   "cell_type": "code",
   "execution_count": null,
   "id": "fa4f5c71",
   "metadata": {},
   "outputs": [
    {
     "name": "stdout",
     "output_type": "stream",
     "text": [
      "Hello, Kevin!\n"
     ]
    }
   ],
   "source": [
    "say_hello(\"Kevin\")"
   ]
  },
  {
   "cell_type": "code",
   "execution_count": 3,
   "id": "ae7feb12",
   "metadata": {},
   "outputs": [
    {
     "name": "stdout",
     "output_type": "stream",
     "text": [
      "Hello, Kevin!\n"
     ]
    }
   ],
   "source": [
    "#we can usually improve this by passing a variable to the function, making it more flexible\n",
    "\n",
    "name = \"Kevin\"\n",
    "say_hello(name)"
   ]
  },
  {
   "cell_type": "code",
   "execution_count": 4,
   "id": "a839f649",
   "metadata": {},
   "outputs": [],
   "source": [
    "#what if we want to return the greeting from the function instead of printing it?\n",
    "\n",
    "def say_hello_return(name):\n",
    "    \"\"\"Function to return a greeting for a person by name.\"\"\"\n",
    "    return \"Hello, \" + name + \"!\""
   ]
  },
  {
   "cell_type": "code",
   "execution_count": 9,
   "id": "3a41623c",
   "metadata": {},
   "outputs": [
    {
     "name": "stdout",
     "output_type": "stream",
     "text": [
      "Hello, Kevin R!\n"
     ]
    }
   ],
   "source": [
    "name = \"Kevin R\"\n",
    "greeting = say_hello_return(name)\n",
    "print(greeting)"
   ]
  },
  {
   "cell_type": "code",
   "execution_count": 6,
   "id": "d6a24ab8",
   "metadata": {},
   "outputs": [],
   "source": [
    "#we can pass multiple arguments to a function\n",
    "def greet_person(first_name, last_name):\n",
    "    \"\"\"Function to greet a person by first and last name.\"\"\"\n",
    "    return \"Hello, \" + first_name + \" \" + last_name + \"!\""
   ]
  },
  {
   "cell_type": "code",
   "execution_count": 8,
   "id": "b6b4cc59",
   "metadata": {},
   "outputs": [
    {
     "name": "stdout",
     "output_type": "stream",
     "text": [
      "Hello, Kevin Risolo!\n"
     ]
    }
   ],
   "source": [
    "first_name = \"Kevin\"\n",
    "last_name = \"Risolo\"\n",
    "greeting_full = greet_person(first_name, last_name)\n",
    "print(greeting_full)"
   ]
  },
  {
   "cell_type": "code",
   "execution_count": 10,
   "id": "1c1a255e",
   "metadata": {},
   "outputs": [],
   "source": [
    "#python functions can also return multiple values, which are returned as a tuple\n",
    "def get_full_name(first_name, last_name):\n",
    "    \"\"\"Function to return a full name as a tuple.\"\"\"\n",
    "    return first_name, last_name"
   ]
  },
  {
   "cell_type": "code",
   "execution_count": 11,
   "id": "f5c02dac",
   "metadata": {},
   "outputs": [
    {
     "name": "stdout",
     "output_type": "stream",
     "text": [
      "First name: Kevin\n",
      "Last name: Risolo\n"
     ]
    }
   ],
   "source": [
    "first_name = \"Kevin\"\n",
    "last_name = \"Risolo\"\n",
    "full_name = get_full_name(first_name, last_name)\n",
    "print(\"First name:\", full_name[0])\n",
    "print(\"Last name:\", full_name[1])"
   ]
  },
  {
   "cell_type": "code",
   "execution_count": 17,
   "id": "9eaaff96",
   "metadata": {},
   "outputs": [],
   "source": [
    "#functions have local scope, meaning variables defined inside a function are not accessible outside of it\n",
    "def modify_variable(x):\n",
    "    \"\"\"Function to modify a variable.\"\"\"\n",
    "    x = x + 1\n",
    "    print(\"Inside function, modified x:\", x)"
   ]
  },
  {
   "cell_type": "code",
   "execution_count": null,
   "id": "c08b0554",
   "metadata": {},
   "outputs": [
    {
     "name": "stdout",
     "output_type": "stream",
     "text": [
      "x before function call: 1\n",
      "Inside function, modified x: 2\n",
      "x after function call: 1\n"
     ]
    }
   ],
   "source": [
    "#the int variable x below is defined in the global scope, the function will not modify it\n",
    "x = 1\n",
    "print(\"x before function call:\", x)\n",
    "\n",
    "modify_variable(x)\n",
    "print(\"x after function call:\", x)  # x remains unchanged outside the function"
   ]
  },
  {
   "cell_type": "code",
   "execution_count": 19,
   "id": "7ab5954a",
   "metadata": {},
   "outputs": [],
   "source": [
    "#lists can also be passed to functions, but note that the function will receive a reference to the list and will modify it in place, not a copy as with ints or strings\n",
    "def modify_list(lst):\n",
    "    \"\"\"Function to modify a list.\"\"\"\n",
    "    lst.append(6)\n",
    "    print(\"Inside function, modified list:\", lst)"
   ]
  },
  {
   "cell_type": "code",
   "execution_count": 20,
   "id": "47024212",
   "metadata": {},
   "outputs": [
    {
     "name": "stdout",
     "output_type": "stream",
     "text": [
      "List before function call: [1, 2, 3, 4, 5]\n",
      "Inside function, modified list: [1, 2, 3, 4, 5, 6]\n",
      "List after function call: [1, 2, 3, 4, 5, 6]\n"
     ]
    }
   ],
   "source": [
    "lst = [1, 2, 3, 4, 5]\n",
    "print(\"List before function call:\", lst)\n",
    "modify_list(lst)\n",
    "print(\"List after function call:\", lst)  # lst is modified in place"
   ]
  },
  {
   "cell_type": "code",
   "execution_count": null,
   "id": "b2ee7880",
   "metadata": {},
   "outputs": [],
   "source": [
    "#generally, we want to avoid modifying variables in place, as it can lead to unexpected behavior\n",
    "#instead, we can return a new value from the function and assign it to the variable\n",
    "#or we can create a direct copy of the variable to pass in (many ways to skin a cat- follow best conventions)\n",
    "\n",
    "def modify_list_copy(lst):\n",
    "    \"\"\"Function to modify a copy of a list.\"\"\"\n",
    "    lst.append(6)\n",
    "    print(\"Inside function, modified copy of list:\", lst)   "
   ]
  },
  {
   "cell_type": "code",
   "execution_count": 22,
   "id": "37627668",
   "metadata": {},
   "outputs": [
    {
     "name": "stdout",
     "output_type": "stream",
     "text": [
      "List before function call: [1, 2, 3, 4, 5]\n",
      "Copy of list before function call: [1, 2, 3, 4, 5]\n",
      "Inside function, modified copy of list: [1, 2, 3, 4, 5, 6]\n",
      "List after function call: [1, 2, 3, 4, 5]\n"
     ]
    }
   ],
   "source": [
    "lst = [1, 2, 3, 4, 5]\n",
    "print(\"List before function call:\", lst)\n",
    "\n",
    "lst_copy = lst.copy()  # create a copy of the list\n",
    "print(\"Copy of list before function call:\", lst_copy)\n",
    "\n",
    "lst_out = modify_list_copy(lst_copy)\n",
    "print(\"List after function call:\", lst)  # original list remains unchanged"
   ]
  },
  {
   "cell_type": "code",
   "execution_count": 24,
   "id": "3da6f65b",
   "metadata": {},
   "outputs": [
    {
     "name": "stdout",
     "output_type": "stream",
     "text": [
      "Length of list: 5\n",
      "Sum of list: 15\n"
     ]
    }
   ],
   "source": [
    "#python has a rich set of built-in functions and libraries that can be used to perform various tasks\n",
    "#for example, we can use the built-in len function to get the length of a list\n",
    "lst = [1, 2, 3, 4, 5]\n",
    "lst_length = len(lst)\n",
    "print(\"Length of list:\", lst_length)\n",
    "\n",
    "#or we can use the built-in sum function to get the sum of a list\n",
    "#numpy has more advanced functions for numerical operations, but for simple tasks, built-in functions are often sufficient\n",
    "lst_sum = sum(lst)\n",
    "print(\"Sum of list:\", lst_sum)\n",
    "\n",
    "#when in doubt, we can always check the documentation for a function or library, or search for examples online"
   ]
  },
  {
   "cell_type": "code",
   "execution_count": 25,
   "id": "f530d3b8",
   "metadata": {},
   "outputs": [],
   "source": [
    "#python is an object-oriented language, meaning we can define our own classes and objects\n",
    "#classes are defined using the class keyword, and can have attributes and methods\n",
    "#convention is to use CamelCase for class names\n",
    "class PetDog:\n",
    "    \"\"\"Class to represent a dog\"\"\"\n",
    "    #we can define attributes and methods inside the class\n",
    "    \n",
    "    #attributes are variables that belong to the class\n",
    "    breed = \"Unknown\"  # default breed\n",
    "\n",
    "    #the initialization method is called when an object is created\n",
    "    def __init__(self, name, age):\n",
    "        \"\"\"Initialize a dog with a name and age.\"\"\"\n",
    "        self.name = name\n",
    "        self.age = age\n",
    "    \n",
    "    #methods are functions that belong to the class\n",
    "    def bark(self):\n",
    "        \"\"\"Method to make the dog bark.\"\"\"\n",
    "        print(f\"{self.name} says Woof!\")\n",
    "    \n",
    "    #we can also define attributes and methods to modify the state of the object\n",
    "    def set_breed(self, breed):\n",
    "        \"\"\"Method to set the breed of the dog.\"\"\"\n",
    "        self.breed = breed\n",
    "        return self.breed"
   ]
  },
  {
   "cell_type": "code",
   "execution_count": 29,
   "id": "6c9dd5b7",
   "metadata": {},
   "outputs": [
    {
     "name": "stdout",
     "output_type": "stream",
     "text": [
      "Dog's name: Buddy\n"
     ]
    }
   ],
   "source": [
    "#let's create an instance of the PetDog class\n",
    "#we'll pass the name and age of the dog to the constructor, which is the __init__ method\n",
    "my_dog = PetDog(\"Buddy\", 3)\n",
    "print(\"Dog's name:\", my_dog.name)"
   ]
  },
  {
   "cell_type": "code",
   "execution_count": 30,
   "id": "e0f5428b",
   "metadata": {},
   "outputs": [
    {
     "name": "stdout",
     "output_type": "stream",
     "text": [
      "My dog's breed: Unknown\n",
      "My dog's breed after setting: Golden Retriever\n"
     ]
    }
   ],
   "source": [
    "#I forgot to set the breed, so it will be the default value\n",
    "print(\"My dog's breed:\", my_dog.breed)\n",
    "\n",
    "#we can set the breed using the set_breed method\n",
    "my_dog.set_breed(\"Golden Retriever\")\n",
    "print(\"My dog's breed after setting:\", my_dog.breed)"
   ]
  },
  {
   "cell_type": "code",
   "execution_count": 51,
   "id": "77d0e505",
   "metadata": {},
   "outputs": [],
   "source": [
    "#let's make a whole bunch of dogs\n",
    "dogs = [\n",
    "    PetDog(\"Rex\", 2),\n",
    "    PetDog(\"Max\", 4),\n",
    "    PetDog(\"Bella\", 1),\n",
    "    PetDog(\"Charlie\", 5)\n",
    "]"
   ]
  },
  {
   "cell_type": "code",
   "execution_count": 52,
   "id": "1f14a161",
   "metadata": {},
   "outputs": [
    {
     "name": "stdout",
     "output_type": "stream",
     "text": [
      "Dog name: Rex\n",
      "Dog name: Max\n",
      "Dog name: Bella\n",
      "Dog name: Charlie\n"
     ]
    }
   ],
   "source": [
    "#python allows us to iterate over lists using a for loop\n",
    "\n",
    "#here, we will print the name of each dog in the list of dogs\n",
    "for dog in dogs:\n",
    "    print(\"Dog name:\", dog.name)"
   ]
  },
  {
   "cell_type": "code",
   "execution_count": 53,
   "id": "96860421",
   "metadata": {},
   "outputs": [
    {
     "name": "stdout",
     "output_type": "stream",
     "text": [
      "Dog name at index 0 : Rex\n",
      "Dog name at index 1 : Max\n",
      "Dog name at index 2 : Bella\n",
      "Dog name at index 3 : Charlie\n"
     ]
    }
   ],
   "source": [
    "#python also allows us to do a for loop with an index\n",
    "#this is useful when we need to access the index of the element in the list\n",
    "\n",
    "for i in range(len(dogs)):\n",
    "    print(\"Dog name at index\", i, \":\", dogs[i].name)"
   ]
  },
  {
   "cell_type": "code",
   "execution_count": 55,
   "id": "2dce7164",
   "metadata": {},
   "outputs": [
    {
     "name": "stdout",
     "output_type": "stream",
     "text": [
      "My dog Buddy is not in the list of dogs.\n"
     ]
    }
   ],
   "source": [
    "#let's go find my dog, Buddy\n",
    "#we can use a for loop to search for a dog by name\n",
    "#and when we find it, we can break out of the loop\n",
    "#this is useful when we want to stop searching once we find the dog we're looking for\n",
    "\n",
    "for dog in dogs:\n",
    "    if dog.name == \"Buddy\":\n",
    "        print(\"Found my dog:\", dog.name)\n",
    "        break\n",
    "    \n",
    "    #if we don't find the dog, we can print a message\n",
    "else:\n",
    "    print(\"My dog Buddy is not in the list of dogs.\")"
   ]
  },
  {
   "cell_type": "code",
   "execution_count": null,
   "id": "9aa5bc59",
   "metadata": {},
   "outputs": [
    {
     "name": "stdout",
     "output_type": "stream",
     "text": [
      "Found my dog: Buddy\n"
     ]
    }
   ],
   "source": [
    "#that's not very nice, so let's add him to the list of dogs\n",
    "dogs.append(my_dog)\n",
    "\n",
    "#for simplicity I'm copy/pasting the code to find Buddy again, but in practice you would want to put this in a function\n",
    "#if you do it more than once, it's generally a good idea to put it in a function\n",
    "#also usually good a make function to wrap data and logic that might change, in case the data and/or logic changes in the future but the output of the function needs to remain the same\n",
    "\n",
    "for dog in dogs:\n",
    "    if dog.name == \"Buddy\":\n",
    "        print(\"Found my dog:\", dog.name)\n",
    "        break\n",
    "    \n",
    "    #if we don't find the dog, we can print a message\n",
    "else:\n",
    "    print(\"My dog Buddy is not in the list of dogs.\")"
   ]
  }
 ],
 "metadata": {
  "kernelspec": {
   "display_name": ".venv",
   "language": "python",
   "name": "python3"
  },
  "language_info": {
   "codemirror_mode": {
    "name": "ipython",
    "version": 3
   },
   "file_extension": ".py",
   "mimetype": "text/x-python",
   "name": "python",
   "nbconvert_exporter": "python",
   "pygments_lexer": "ipython3",
   "version": "3.12.10"
  }
 },
 "nbformat": 4,
 "nbformat_minor": 5
}
