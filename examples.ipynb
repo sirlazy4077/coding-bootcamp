{
 "cells": [
  {
   "cell_type": "code",
   "execution_count": null,
   "id": "b882f033",
   "metadata": {},
   "outputs": [],
   "source": [
    "# references:\n",
    "# https://www.freecodecamp.org/news/python-code-examples-sample-script-coding-tutorial-for-beginners/\n",
    "\n",
    "# the hash at the start of a line is a comment in Python"
   ]
  },
  {
   "cell_type": "code",
   "execution_count": null,
   "id": "b6decb13",
   "metadata": {},
   "outputs": [
    {
     "name": "stdout",
     "output_type": "stream",
     "text": [
      "x: 10\n",
      "y: 3.14\n"
     ]
    }
   ],
   "source": [
    "# Basic Python syntax and datatypes modification example\n",
    "\n",
    "# Integer\n",
    "x = 10\n",
    "\n",
    "# Float\n",
    "# convention is using lowercase letters for variable names\n",
    "y = 3.14\n",
    "\n",
    "# Print values\n",
    "print(\"x:\", x)\n",
    "print(\"x type\", type(x))\n",
    "\n",
    "print(\"y:\", y)\n",
    "print(\"y type\", type(y) )"
   ]
  },
  {
   "cell_type": "code",
   "execution_count": 3,
   "id": "cb616e92",
   "metadata": {},
   "outputs": [
    {
     "name": "stdout",
     "output_type": "stream",
     "text": [
      "x: 12\n",
      "x type <class 'int'>\n",
      "y: 3\n",
      "y type <class 'int'>\n"
     ]
    }
   ],
   "source": [
    "# Integer\n",
    "# we can also use expressions to assign values\n",
    "x = 10+2\n",
    "\n",
    "# Float to int\n",
    "# we can also change the type of a variable (this can get confusing!)\n",
    "y = int(3.14)\n",
    "\n",
    "# Print values\n",
    "print(\"x:\", x)\n",
    "print(\"x type\", type(x))\n",
    "\n",
    "print(\"y:\", y)\n",
    "print(\"y type\", type(y) )"
   ]
  },
  {
   "cell_type": "code",
   "execution_count": 4,
   "id": "eadd2db0",
   "metadata": {},
   "outputs": [
    {
     "name": "stdout",
     "output_type": "stream",
     "text": [
      "name: Alice\n"
     ]
    }
   ],
   "source": [
    "# String\n",
    "# convention is naming variables with lowercase letters\n",
    "name = \"Alice\"\n",
    "\n",
    "print(\"name:\", name)"
   ]
  },
  {
   "cell_type": "code",
   "execution_count": 5,
   "id": "bb54c7f2",
   "metadata": {},
   "outputs": [
    {
     "name": "stdout",
     "output_type": "stream",
     "text": [
      "greeting: Hello, Alice!\n"
     ]
    }
   ],
   "source": [
    "# String\n",
    "# we can do string concatenation\n",
    "greeting = \"Hello, \" + name + \"!\"\n",
    "\n",
    "print(\"greeting:\", greeting)"
   ]
  },
  {
   "cell_type": "code",
   "execution_count": 6,
   "id": "37fd9d20",
   "metadata": {},
   "outputs": [
    {
     "name": "stdout",
     "output_type": "stream",
     "text": [
      "is_active: True\n"
     ]
    }
   ],
   "source": [
    "# Boolean\n",
    "# convention is naming boolean variables with 'is_' prefix\n",
    "# and using the underscore for seperating words in a variable name\n",
    "is_active = True\n",
    "\n",
    "print(\"is_active:\", is_active)"
   ]
  },
  {
   "cell_type": "code",
   "execution_count": 7,
   "id": "a113d4e6",
   "metadata": {},
   "outputs": [
    {
     "name": "stdout",
     "output_type": "stream",
     "text": [
      "is_active: False\n"
     ]
    }
   ],
   "source": [
    "# Boolean\n",
    "# we can change the boolean value\n",
    "is_active = False\n",
    "\n",
    "print(\"is_active:\", is_active)"
   ]
  },
  {
   "cell_type": "code",
   "execution_count": 8,
   "id": "db986d51",
   "metadata": {},
   "outputs": [
    {
     "name": "stdout",
     "output_type": "stream",
     "text": [
      "numbers: [1, 2, 3, 4, 5]\n"
     ]
    }
   ],
   "source": [
    "# List\n",
    "# lists are mutable sequences\n",
    "numbers = [1, 2, 3, 4, 5]\n",
    "\n",
    "print(\"numbers:\", numbers)"
   ]
  },
  {
   "cell_type": "code",
   "execution_count": 11,
   "id": "c43a54b3",
   "metadata": {},
   "outputs": [
    {
     "name": "stdout",
     "output_type": "stream",
     "text": [
      "number 1, which is index 0: 1\n",
      "number 2, which is index 1: 2\n"
     ]
    }
   ],
   "source": [
    "# List\n",
    "# we can grab a value from a list by its index\n",
    "numbers = [1, 2, 3, 4, 5]\n",
    "\n",
    "# note that python uses zero-based indexing\n",
    "# so the first element is at index 0\n",
    "# and the second element is at index 1\n",
    "# and so on...\n",
    "first_number = numbers[0]\n",
    "second_number = numbers[1]\n",
    "\n",
    "print(\"number 1, which is index 0:\", first_number)\n",
    "print(\"number 2, which is index 1:\", second_number)"
   ]
  },
  {
   "cell_type": "code",
   "execution_count": 12,
   "id": "38abb466",
   "metadata": {},
   "outputs": [
    {
     "name": "stdout",
     "output_type": "stream",
     "text": [
      "sublist: [2, 3]\n"
     ]
    }
   ],
   "source": [
    "# List\n",
    "# we can slice a list to get a sublist\n",
    "\n",
    "numbers = [1, 2, 3, 4, 5]\n",
    "# we can get a sublist from index 1 (inclusive) to index 3 (exclusive, so the final index is not included)\n",
    "sublist = numbers[1:3]\n",
    "\n",
    "print(\"sublist:\", sublist)"
   ]
  },
  {
   "cell_type": "code",
   "execution_count": null,
   "id": "09ab119b",
   "metadata": {},
   "outputs": [
    {
     "name": "stdout",
     "output_type": "stream",
     "text": [
      "list modified: [6, 2, 3, 4, 5]\n"
     ]
    }
   ],
   "source": [
    "# List\n",
    "# we can modify list values by calling the index\n",
    "\n",
    "numbers = [1, 2, 3, 4, 5]\n",
    "\n",
    "numbers[0] = 6\n",
    "\n",
    "print(\"list modified:\", numbers)"
   ]
  },
  {
   "cell_type": "code",
   "execution_count": 4,
   "id": "43e64e49",
   "metadata": {},
   "outputs": [
    {
     "name": "stdout",
     "output_type": "stream",
     "text": [
      "list mixed: [1, 2, 3.14, 4, 'Five']\n"
     ]
    }
   ],
   "source": [
    "# List\n",
    "# lists in python can be a mix of types (contrary to languages like Java)\n",
    "\n",
    "list_mixed = [1, 2, 3.14, 4, \"Five\"]\n",
    "\n",
    "print(\"list mixed:\", list_mixed)"
   ]
  },
  {
   "cell_type": "code",
   "execution_count": 13,
   "id": "3771de62",
   "metadata": {},
   "outputs": [
    {
     "name": "stdout",
     "output_type": "stream",
     "text": [
      "coordinates: (10.0, 20.0)\n",
      "coordinates first index: 10.0\n"
     ]
    }
   ],
   "source": [
    "# Tuple\n",
    "# tuples are immutable sequences\n",
    "coordinates = (10.0, 20.0)\n",
    "\n",
    "print(\"coordinates:\", coordinates)\n",
    "\n",
    "print(\"coordinates first index:\", coordinates[0])"
   ]
  },
  {
   "cell_type": "code",
   "execution_count": null,
   "id": "ee8dee48",
   "metadata": {},
   "outputs": [
    {
     "name": "stdout",
     "output_type": "stream",
     "text": [
      "unique_numbers: {1, 2, 3}\n",
      "True\n",
      "False\n"
     ]
    }
   ],
   "source": [
    "# Set\n",
    "# sets are unordered collections of unique elements\n",
    "unique_numbers = {1, 2, 3}\n",
    "\n",
    "print(\"unique_numbers:\", unique_numbers)\n",
    "\n",
    "# we can see if a value is in a set using the 'in' keyword\n",
    "# this is useful for checking membership in a collection\n",
    "print(1 in unique_numbers)  # True\n",
    "print(4 in unique_numbers)  # False"
   ]
  },
  {
   "cell_type": "code",
   "execution_count": 1,
   "id": "68509762",
   "metadata": {},
   "outputs": [
    {
     "name": "stdout",
     "output_type": "stream",
     "text": [
      "person: {'name': 'Bob', 'age': 25}\n"
     ]
    }
   ],
   "source": [
    "# Dictionary\n",
    "# dictionaries are key-value pairs\n",
    "person = {\"name\": \"Bob\", \"age\": 25}\n",
    "\n",
    "# Print values\n",
    "print(\"person:\", person)"
   ]
  },
  {
   "cell_type": "code",
   "execution_count": 16,
   "id": "5b21c26f",
   "metadata": {},
   "outputs": [
    {
     "name": "stdout",
     "output_type": "stream",
     "text": [
      "person: {'name': 'Bob', 'age': 25}\n",
      "person name: Bob\n",
      "person age: 25\n",
      "person after adding city: {'name': 'Bob', 'age': 25, 'city': 'New York'}\n"
     ]
    }
   ],
   "source": [
    "# Dictionary\n",
    "# dictionaries are key-value pairs\n",
    "person = {\"name\": \"Bob\", \"age\": 25}\n",
    "\n",
    "# Print values\n",
    "print(\"person:\", person)\n",
    "\n",
    "# we can access a value by its key\n",
    "print(\"person name:\", person[\"name\"])\n",
    "\n",
    "# we can get the value of a key using the get method\n",
    "print(\"person age:\", person.get(\"age\"))\n",
    "\n",
    "# we can also add a new key-value pair to the dictionary\n",
    "person[\"city\"] = \"New York\"\n",
    "\n",
    "print(\"person after adding city:\", person)\n"
   ]
  }
 ],
 "metadata": {
  "kernelspec": {
   "display_name": ".venv (3.13.2)",
   "language": "python",
   "name": "python3"
  },
  "language_info": {
   "codemirror_mode": {
    "name": "ipython",
    "version": 3
   },
   "file_extension": ".py",
   "mimetype": "text/x-python",
   "name": "python",
   "nbconvert_exporter": "python",
   "pygments_lexer": "ipython3",
   "version": "3.13.2"
  }
 },
 "nbformat": 4,
 "nbformat_minor": 5
}
